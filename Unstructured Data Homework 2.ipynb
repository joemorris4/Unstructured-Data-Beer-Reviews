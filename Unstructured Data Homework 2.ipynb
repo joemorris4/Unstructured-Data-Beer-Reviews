{
 "cells": [
  {
   "attachments": {},
   "cell_type": "markdown",
   "metadata": {},
   "source": [
    "# Homework 2: Unstructured Data\n",
    "## Joe Morris, Amrit Sandhu, Aidan Cremins, Ben Kanarick, Mark Moreno - 10:30 Section"
   ]
  },
  {
   "cell_type": "code",
   "execution_count": 1,
   "metadata": {},
   "outputs": [
    {
     "name": "stderr",
     "output_type": "stream",
     "text": [
      "/Users/joemorris/opt/anaconda3/lib/python3.8/site-packages/h5py/__init__.py:72: UserWarning: h5py is running against HDF5 1.10.4 when it was built against 1.8.4, this may cause problems\n",
      "  _warn((\"h5py is running against HDF5 {0} when it was built against {1}, \"\n"
     ]
    }
   ],
   "source": [
    "# imports\n",
    "import pandas as pd\n",
    "import numpy as np\n",
    "from nltk.sentiment.vader import SentimentIntensityAnalyzer\n",
    "import spacy "
   ]
  },
  {
   "attachments": {},
   "cell_type": "markdown",
   "metadata": {},
   "source": [
    "### Task A. Extract about 5-6k reviews. \n",
    "\n",
    "##### NOTE: Only 2216 reviews with text were aviailable to scrape"
   ]
  },
  {
   "cell_type": "code",
   "execution_count": 2,
   "metadata": {},
   "outputs": [
    {
     "name": "stdout",
     "output_type": "stream",
     "text": [
      "Length of the dataframe:  2216\n"
     ]
    },
    {
     "data": {
      "text/html": [
       "<div>\n",
       "<style scoped>\n",
       "    .dataframe tbody tr th:only-of-type {\n",
       "        vertical-align: middle;\n",
       "    }\n",
       "\n",
       "    .dataframe tbody tr th {\n",
       "        vertical-align: top;\n",
       "    }\n",
       "\n",
       "    .dataframe thead th {\n",
       "        text-align: right;\n",
       "    }\n",
       "</style>\n",
       "<table border=\"1\" class=\"dataframe\">\n",
       "  <thead>\n",
       "    <tr style=\"text-align: right;\">\n",
       "      <th></th>\n",
       "      <th>Beer</th>\n",
       "      <th>Review</th>\n",
       "      <th>Rating</th>\n",
       "    </tr>\n",
       "  </thead>\n",
       "  <tbody>\n",
       "    <tr>\n",
       "      <th>0</th>\n",
       "      <td>Kentucky Brunch Brand Stout</td>\n",
       "      <td>I didnt think i was going to give it a perfect...</td>\n",
       "      <td>5.00</td>\n",
       "    </tr>\n",
       "    <tr>\n",
       "      <th>1</th>\n",
       "      <td>Kentucky Brunch Brand Stout</td>\n",
       "      <td>So I just read a review that called the legend...</td>\n",
       "      <td>3.79</td>\n",
       "    </tr>\n",
       "    <tr>\n",
       "      <th>2</th>\n",
       "      <td>Kentucky Brunch Brand Stout</td>\n",
       "      <td>2021 vintage, bottle #79\\n\\nHoly. Fucking. Shi...</td>\n",
       "      <td>4.64</td>\n",
       "    </tr>\n",
       "    <tr>\n",
       "      <th>3</th>\n",
       "      <td>Kentucky Brunch Brand Stout</td>\n",
       "      <td>Celebrating my buddy @Rug with his 1,000th bee...</td>\n",
       "      <td>4.27</td>\n",
       "    </tr>\n",
       "    <tr>\n",
       "      <th>4</th>\n",
       "      <td>Kentucky Brunch Brand Stout</td>\n",
       "      <td>Thick and syrupy pour, mocha head. Aroma is bo...</td>\n",
       "      <td>4.79</td>\n",
       "    </tr>\n",
       "  </tbody>\n",
       "</table>\n",
       "</div>"
      ],
      "text/plain": [
       "                          Beer  \\\n",
       "0  Kentucky Brunch Brand Stout   \n",
       "1  Kentucky Brunch Brand Stout   \n",
       "2  Kentucky Brunch Brand Stout   \n",
       "3  Kentucky Brunch Brand Stout   \n",
       "4  Kentucky Brunch Brand Stout   \n",
       "\n",
       "                                              Review  Rating  \n",
       "0  I didnt think i was going to give it a perfect...    5.00  \n",
       "1  So I just read a review that called the legend...    3.79  \n",
       "2  2021 vintage, bottle #79\\n\\nHoly. Fucking. Shi...    4.64  \n",
       "3  Celebrating my buddy @Rug with his 1,000th bee...    4.27  \n",
       "4  Thick and syrupy pour, mocha head. Aroma is bo...    4.79  "
      ]
     },
     "execution_count": 2,
     "metadata": {},
     "output_type": "execute_result"
    }
   ],
   "source": [
    "# read in the beer_reviews.csv file\n",
    "df = pd.read_csv('beer_reviews.csv')\n",
    "print('Length of the dataframe: ', len(df))\n",
    "df.head()"
   ]
  },
  {
   "cell_type": "code",
   "execution_count": 3,
   "metadata": {},
   "outputs": [
    {
     "data": {
      "text/html": [
       "<div>\n",
       "<style scoped>\n",
       "    .dataframe tbody tr th:only-of-type {\n",
       "        vertical-align: middle;\n",
       "    }\n",
       "\n",
       "    .dataframe tbody tr th {\n",
       "        vertical-align: top;\n",
       "    }\n",
       "\n",
       "    .dataframe thead th {\n",
       "        text-align: right;\n",
       "    }\n",
       "</style>\n",
       "<table border=\"1\" class=\"dataframe\">\n",
       "  <thead>\n",
       "    <tr style=\"text-align: right;\">\n",
       "      <th></th>\n",
       "      <th>Beer</th>\n",
       "      <th>Review</th>\n",
       "      <th>Rating</th>\n",
       "      <th>clean_review</th>\n",
       "    </tr>\n",
       "  </thead>\n",
       "  <tbody>\n",
       "    <tr>\n",
       "      <th>0</th>\n",
       "      <td>Kentucky Brunch Brand Stout</td>\n",
       "      <td>I didnt think i was going to give it a perfect...</td>\n",
       "      <td>5.00</td>\n",
       "      <td>didnt think going give perfect score looks sme...</td>\n",
       "    </tr>\n",
       "    <tr>\n",
       "      <th>1</th>\n",
       "      <td>Kentucky Brunch Brand Stout</td>\n",
       "      <td>So I just read a review that called the legend...</td>\n",
       "      <td>3.79</td>\n",
       "      <td>read review called legendary kbbs typical whit...</td>\n",
       "    </tr>\n",
       "    <tr>\n",
       "      <th>2</th>\n",
       "      <td>Kentucky Brunch Brand Stout</td>\n",
       "      <td>2021 vintage, bottle #79\\n\\nHoly. Fucking. Shi...</td>\n",
       "      <td>4.64</td>\n",
       "      <td>vintage bottle holy ucking hit bbs eer review ...</td>\n",
       "    </tr>\n",
       "    <tr>\n",
       "      <th>3</th>\n",
       "      <td>Kentucky Brunch Brand Stout</td>\n",
       "      <td>Celebrating my buddy @Rug with his 1,000th bee...</td>\n",
       "      <td>4.27</td>\n",
       "      <td>celebrating buddy rug th beer review almost pe...</td>\n",
       "    </tr>\n",
       "    <tr>\n",
       "      <th>4</th>\n",
       "      <td>Kentucky Brunch Brand Stout</td>\n",
       "      <td>Thick and syrupy pour, mocha head. Aroma is bo...</td>\n",
       "      <td>4.79</td>\n",
       "      <td>thick syrupy pour mocha head roma boozy maple ...</td>\n",
       "    </tr>\n",
       "  </tbody>\n",
       "</table>\n",
       "</div>"
      ],
      "text/plain": [
       "                          Beer  \\\n",
       "0  Kentucky Brunch Brand Stout   \n",
       "1  Kentucky Brunch Brand Stout   \n",
       "2  Kentucky Brunch Brand Stout   \n",
       "3  Kentucky Brunch Brand Stout   \n",
       "4  Kentucky Brunch Brand Stout   \n",
       "\n",
       "                                              Review  Rating  \\\n",
       "0  I didnt think i was going to give it a perfect...    5.00   \n",
       "1  So I just read a review that called the legend...    3.79   \n",
       "2  2021 vintage, bottle #79\\n\\nHoly. Fucking. Shi...    4.64   \n",
       "3  Celebrating my buddy @Rug with his 1,000th bee...    4.27   \n",
       "4  Thick and syrupy pour, mocha head. Aroma is bo...    4.79   \n",
       "\n",
       "                                        clean_review  \n",
       "0  didnt think going give perfect score looks sme...  \n",
       "1  read review called legendary kbbs typical whit...  \n",
       "2  vintage bottle holy ucking hit bbs eer review ...  \n",
       "3  celebrating buddy rug th beer review almost pe...  \n",
       "4  thick syrupy pour mocha head roma boozy maple ...  "
      ]
     },
     "execution_count": 3,
     "metadata": {},
     "output_type": "execute_result"
    }
   ],
   "source": [
    "# Clean Messages\n",
    "df['clean_review'] = df['Review'].str.replace('\\...', ' ') # remove ellipses\n",
    "df['clean_review'] = df['clean_review'].str.replace('\\n', ' ') # remove newlines\n",
    "df['clean_review'] = df['clean_review'].str.replace(\"'\", '') # remove apostrophes\n",
    "df['clean_review'] = df['clean_review'].str.replace('[^\\w\\s]',' ') # remove punctuation\n",
    "df['clean_review'] = df['clean_review'].str.replace('\\d+', '') # remove numbers\n",
    "df['clean_review'] = df['clean_review'].str.lower() # make lowercase\n",
    "\n",
    "# remove stop words from clean review nltk\n",
    "from nltk.corpus import stopwords\n",
    "stop = stopwords.words('english')\n",
    "df['clean_review'] = df['clean_review'].apply(lambda x: \" \".join(x for x in x.split() if x not in stop))\n",
    "\n",
    "\n",
    "df = df.dropna(subset=['clean_review'])  # remove nan from message column\n",
    "df = df.reset_index(drop=True)\n",
    "df.head()"
   ]
  },
  {
   "attachments": {},
   "cell_type": "markdown",
   "metadata": {},
   "source": [
    "### Task B. Assume that a customer, who will be using this recommender system, has specified 3 attributes in a product. E.g., one website describes multiple attributes of beer:\n",
    "\n",
    "https://www.dummies.com/food-drink/drinks/beer/beer-for-dummies-cheat-sheet/\n",
    "\n",
    "<li>Aggressive (Boldly assertive aroma and/or taste) </li>\n",
    "<li>Balanced: Malt and hops in similar proportions; equal representation of malt sweetness and hop bitterness in the flavor — especially at the finish </li>\n",
    "<li>Complex: Multidimensional; many flavors and sensations on the palate </li>\n",
    "<li>Crisp: Highly carbonated; effervescent </li>\n",
    "<li>Fruity: Flavors reminiscent of various fruits or Hoppy: Herbal, earthy, spicy, or citric aromas and flavors of hops or Malty: Grainy, caramel-like; can be sweet or dry </li>\n",
    "<li>Robust: Rich and full-bodied</li>\n",
    "\n",
    "##### Use the above attributes as examples only, for a word frequency analysis of beer reviews is a better way to find important attributes in the actual data. \n",
    "##### Assume that a customer has specified three attributes of the product as being important to him or her. "
   ]
  },
  {
   "cell_type": "code",
   "execution_count": 4,
   "metadata": {},
   "outputs": [
    {
     "data": {
      "text/plain": [
       "beer         1524\n",
       "head         1164\n",
       "taste         908\n",
       "chocolate     875\n",
       "dark          795\n",
       "like          744\n",
       "notes         705\n",
       "bourbon       696\n",
       "coffee        678\n",
       "sweet         654\n",
       "dtype: int64"
      ]
     },
     "execution_count": 4,
     "metadata": {},
     "output_type": "execute_result"
    }
   ],
   "source": [
    "word_freq_all = pd.Series(' '.join(df['clean_review']).split()).value_counts()\n",
    "word_freq_all[:10]"
   ]
  },
  {
   "attachments": {},
   "cell_type": "markdown",
   "metadata": {},
   "source": [
    "### 3 Attributes: dark, sweet, head --> added to attributes.txt"
   ]
  },
  {
   "attachments": {},
   "cell_type": "markdown",
   "metadata": {},
   "source": [
    "### Task C. Perform a similarity analysis using cosine similarity (without word embeddings) with the 3 attributes specified by the customer and the reviews. \n",
    "##### The similarity script should accept as input a file with the product attributes, and calculate similarity scores (between 0 and 1) between these attributes and each review. That is, the output file should have 3 columns – product_name (for each product, the product_name will repeat as many times as there are reviews of the product), product_review and similarity_score. "
   ]
  },
  {
   "cell_type": "code",
   "execution_count": 5,
   "metadata": {},
   "outputs": [],
   "source": [
    "# read in attributes txt file\n",
    "attributes = pd.read_csv('attributes.txt', header=None, names=['attribute'])\n",
    "attributes.head()\n",
    "\n",
    "# change attributes to a string\n",
    "attributes = attributes['attribute'].str.cat(sep=' ').lower()"
   ]
  },
  {
   "cell_type": "code",
   "execution_count": 6,
   "metadata": {},
   "outputs": [
    {
     "name": "stderr",
     "output_type": "stream",
     "text": [
      "/var/folders/yh/03ygvdwj1hb1wmtsp43j_w1c0000gn/T/ipykernel_57962/31485790.py:29: RuntimeWarning: invalid value encountered in double_scalars\n",
      "  return dot / (norma * normb)\n"
     ]
    },
    {
     "data": {
      "text/html": [
       "<div>\n",
       "<style scoped>\n",
       "    .dataframe tbody tr th:only-of-type {\n",
       "        vertical-align: middle;\n",
       "    }\n",
       "\n",
       "    .dataframe tbody tr th {\n",
       "        vertical-align: top;\n",
       "    }\n",
       "\n",
       "    .dataframe thead th {\n",
       "        text-align: right;\n",
       "    }\n",
       "</style>\n",
       "<table border=\"1\" class=\"dataframe\">\n",
       "  <thead>\n",
       "    <tr style=\"text-align: right;\">\n",
       "      <th></th>\n",
       "      <th>product_name</th>\n",
       "      <th>product_review</th>\n",
       "      <th>similarity_score</th>\n",
       "    </tr>\n",
       "  </thead>\n",
       "  <tbody>\n",
       "    <tr>\n",
       "      <th>0</th>\n",
       "      <td>Kentucky Brunch Brand Stout</td>\n",
       "      <td>I didnt think i was going to give it a perfect...</td>\n",
       "      <td>0.000000</td>\n",
       "    </tr>\n",
       "    <tr>\n",
       "      <th>1</th>\n",
       "      <td>Kentucky Brunch Brand Stout</td>\n",
       "      <td>So I just read a review that called the legend...</td>\n",
       "      <td>0.029501</td>\n",
       "    </tr>\n",
       "    <tr>\n",
       "      <th>2</th>\n",
       "      <td>Kentucky Brunch Brand Stout</td>\n",
       "      <td>2021 vintage, bottle #79\\n\\nHoly. Fucking. Shi...</td>\n",
       "      <td>0.032275</td>\n",
       "    </tr>\n",
       "    <tr>\n",
       "      <th>3</th>\n",
       "      <td>Kentucky Brunch Brand Stout</td>\n",
       "      <td>Celebrating my buddy @Rug with his 1,000th bee...</td>\n",
       "      <td>0.068519</td>\n",
       "    </tr>\n",
       "    <tr>\n",
       "      <th>4</th>\n",
       "      <td>Kentucky Brunch Brand Stout</td>\n",
       "      <td>Thick and syrupy pour, mocha head. Aroma is bo...</td>\n",
       "      <td>0.107211</td>\n",
       "    </tr>\n",
       "  </tbody>\n",
       "</table>\n",
       "</div>"
      ],
      "text/plain": [
       "                  product_name  \\\n",
       "0  Kentucky Brunch Brand Stout   \n",
       "1  Kentucky Brunch Brand Stout   \n",
       "2  Kentucky Brunch Brand Stout   \n",
       "3  Kentucky Brunch Brand Stout   \n",
       "4  Kentucky Brunch Brand Stout   \n",
       "\n",
       "                                      product_review  similarity_score  \n",
       "0  I didnt think i was going to give it a perfect...          0.000000  \n",
       "1  So I just read a review that called the legend...          0.029501  \n",
       "2  2021 vintage, bottle #79\\n\\nHoly. Fucking. Shi...          0.032275  \n",
       "3  Celebrating my buddy @Rug with his 1,000th bee...          0.068519  \n",
       "4  Thick and syrupy pour, mocha head. Aroma is bo...          0.107211  "
      ]
     },
     "execution_count": 6,
     "metadata": {},
     "output_type": "execute_result"
    }
   ],
   "source": [
    "# get unique words in a specific review list and attributes list\n",
    "def unique_words(review, attributes):\n",
    "    unique = []\n",
    "    for word in review:\n",
    "        if word not in unique:\n",
    "            unique.append(word)\n",
    "    for word in attributes:\n",
    "        if word not in unique:\n",
    "            unique.append(word)\n",
    "    return unique\n",
    "\n",
    "# two vectors of word counts from reviews and attributes indexed by unique words\n",
    "def word_count(review, attributes):\n",
    "    review = review.split()\n",
    "    attributes = attributes.split()\n",
    "    unique = unique_words(review, attributes)\n",
    "    review_count = []\n",
    "    attributes_count = []\n",
    "    for word in unique:\n",
    "        review_count.append(review.count(word))\n",
    "        attributes_count.append(attributes.count(word))\n",
    "    return review_count, attributes_count\n",
    "\n",
    "# create a function to calculate the cosine similarity between two vectors\n",
    "def cosine_similarity(v1, v2):\n",
    "    dot = np.dot(v1, v2)\n",
    "    norma = np.linalg.norm(v1)\n",
    "    normb = np.linalg.norm(v2)\n",
    "    return dot / (norma * normb)\n",
    "\n",
    "df['similarity'] = df.apply(lambda x: cosine_similarity(word_count(x['clean_review'], attributes)[0], word_count(x['clean_review'], attributes)[1]), axis=1)\n",
    "\n",
    "# create new dataframe with Beer, Review, and similarity score\n",
    "df2 = df[['Beer', 'Review', 'similarity']]\n",
    "df2.columns = ['product_name', 'product_review', 'similarity_score']\n",
    "df2.head()\n"
   ]
  },
  {
   "attachments": {},
   "cell_type": "markdown",
   "metadata": {},
   "source": [
    "### Task D. For every review, perform a sentiment analysis (using VADER). \n",
    "\n",
    "##### In case you have to change the default values of words in the VADER lexicon, use this article: https://medium.com/swlh/adding-ontext-to-unsupervised-sentiment-analysis-7b6693d2c9f8 "
   ]
  },
  {
   "cell_type": "code",
   "execution_count": 7,
   "metadata": {},
   "outputs": [
    {
     "name": "stderr",
     "output_type": "stream",
     "text": [
      "/var/folders/yh/03ygvdwj1hb1wmtsp43j_w1c0000gn/T/ipykernel_57962/2304451302.py:2: SettingWithCopyWarning: \n",
      "A value is trying to be set on a copy of a slice from a DataFrame.\n",
      "Try using .loc[row_indexer,col_indexer] = value instead\n",
      "\n",
      "See the caveats in the documentation: https://pandas.pydata.org/pandas-docs/stable/user_guide/indexing.html#returning-a-view-versus-a-copy\n",
      "  df2['product_review'] = df2['product_review'].str.replace('\\n', ' ') # remove newlines\n",
      "/var/folders/yh/03ygvdwj1hb1wmtsp43j_w1c0000gn/T/ipykernel_57962/2304451302.py:5: SettingWithCopyWarning: \n",
      "A value is trying to be set on a copy of a slice from a DataFrame.\n",
      "Try using .loc[row_indexer,col_indexer] = value instead\n",
      "\n",
      "See the caveats in the documentation: https://pandas.pydata.org/pandas-docs/stable/user_guide/indexing.html#returning-a-view-versus-a-copy\n",
      "  df2['sentiment'] = df2['product_review'].apply(lambda x: sent.polarity_scores(x)['compound'])\n"
     ]
    },
    {
     "data": {
      "text/html": [
       "<div>\n",
       "<style scoped>\n",
       "    .dataframe tbody tr th:only-of-type {\n",
       "        vertical-align: middle;\n",
       "    }\n",
       "\n",
       "    .dataframe tbody tr th {\n",
       "        vertical-align: top;\n",
       "    }\n",
       "\n",
       "    .dataframe thead th {\n",
       "        text-align: right;\n",
       "    }\n",
       "</style>\n",
       "<table border=\"1\" class=\"dataframe\">\n",
       "  <thead>\n",
       "    <tr style=\"text-align: right;\">\n",
       "      <th></th>\n",
       "      <th>product_name</th>\n",
       "      <th>product_review</th>\n",
       "      <th>similarity_score</th>\n",
       "      <th>sentiment</th>\n",
       "    </tr>\n",
       "  </thead>\n",
       "  <tbody>\n",
       "    <tr>\n",
       "      <th>0</th>\n",
       "      <td>Kentucky Brunch Brand Stout</td>\n",
       "      <td>I didnt think i was going to give it a perfect...</td>\n",
       "      <td>0.000000</td>\n",
       "      <td>0.9460</td>\n",
       "    </tr>\n",
       "    <tr>\n",
       "      <th>1</th>\n",
       "      <td>Kentucky Brunch Brand Stout</td>\n",
       "      <td>So I just read a review that called the legend...</td>\n",
       "      <td>0.029501</td>\n",
       "      <td>0.9976</td>\n",
       "    </tr>\n",
       "    <tr>\n",
       "      <th>2</th>\n",
       "      <td>Kentucky Brunch Brand Stout</td>\n",
       "      <td>2021 vintage, bottle #79  Holy. Fucking. Shit....</td>\n",
       "      <td>0.032275</td>\n",
       "      <td>0.9927</td>\n",
       "    </tr>\n",
       "    <tr>\n",
       "      <th>3</th>\n",
       "      <td>Kentucky Brunch Brand Stout</td>\n",
       "      <td>Celebrating my buddy @Rug with his 1,000th bee...</td>\n",
       "      <td>0.068519</td>\n",
       "      <td>0.9476</td>\n",
       "    </tr>\n",
       "    <tr>\n",
       "      <th>4</th>\n",
       "      <td>Kentucky Brunch Brand Stout</td>\n",
       "      <td>Thick and syrupy pour, mocha head. Aroma is bo...</td>\n",
       "      <td>0.107211</td>\n",
       "      <td>0.8357</td>\n",
       "    </tr>\n",
       "  </tbody>\n",
       "</table>\n",
       "</div>"
      ],
      "text/plain": [
       "                  product_name  \\\n",
       "0  Kentucky Brunch Brand Stout   \n",
       "1  Kentucky Brunch Brand Stout   \n",
       "2  Kentucky Brunch Brand Stout   \n",
       "3  Kentucky Brunch Brand Stout   \n",
       "4  Kentucky Brunch Brand Stout   \n",
       "\n",
       "                                      product_review  similarity_score  \\\n",
       "0  I didnt think i was going to give it a perfect...          0.000000   \n",
       "1  So I just read a review that called the legend...          0.029501   \n",
       "2  2021 vintage, bottle #79  Holy. Fucking. Shit....          0.032275   \n",
       "3  Celebrating my buddy @Rug with his 1,000th bee...          0.068519   \n",
       "4  Thick and syrupy pour, mocha head. Aroma is bo...          0.107211   \n",
       "\n",
       "   sentiment  \n",
       "0     0.9460  \n",
       "1     0.9976  \n",
       "2     0.9927  \n",
       "3     0.9476  \n",
       "4     0.8357  "
      ]
     },
     "execution_count": 7,
     "metadata": {},
     "output_type": "execute_result"
    }
   ],
   "source": [
    "# clean product_review column\n",
    "df2['product_review'] = df2['product_review'].str.replace('\\n', ' ') # remove newlines\n",
    "\n",
    "sent = SentimentIntensityAnalyzer()\n",
    "df2['sentiment'] = df2['product_review'].apply(lambda x: sent.polarity_scores(x)['compound'])\n",
    "df2.head()\n"
   ]
  },
  {
   "attachments": {},
   "cell_type": "markdown",
   "metadata": {},
   "source": [
    "### Task E. Create an evaluation score for each beer that uses both similarity and sentiment scores. \n",
    "\n",
    "##### E.g., total score  = average of (similarity score + sentiment score) or a multiplicative model.  \n",
    "\n",
    "##### Now recommend 3 products to the customer. "
   ]
  },
  {
   "cell_type": "code",
   "execution_count": 8,
   "metadata": {},
   "outputs": [
    {
     "data": {
      "text/html": [
       "<div>\n",
       "<style scoped>\n",
       "    .dataframe tbody tr th:only-of-type {\n",
       "        vertical-align: middle;\n",
       "    }\n",
       "\n",
       "    .dataframe tbody tr th {\n",
       "        vertical-align: top;\n",
       "    }\n",
       "\n",
       "    .dataframe thead th {\n",
       "        text-align: right;\n",
       "    }\n",
       "</style>\n",
       "<table border=\"1\" class=\"dataframe\">\n",
       "  <thead>\n",
       "    <tr style=\"text-align: right;\">\n",
       "      <th></th>\n",
       "      <th>similarity_score</th>\n",
       "      <th>sentiment</th>\n",
       "      <th>score</th>\n",
       "    </tr>\n",
       "    <tr>\n",
       "      <th>product_name</th>\n",
       "      <th></th>\n",
       "      <th></th>\n",
       "      <th></th>\n",
       "    </tr>\n",
       "  </thead>\n",
       "  <tbody>\n",
       "    <tr>\n",
       "      <th>All That Is And All That Ever Will Be</th>\n",
       "      <td>0.265658</td>\n",
       "      <td>0.792720</td>\n",
       "      <td>0.210366</td>\n",
       "    </tr>\n",
       "    <tr>\n",
       "      <th>Stickee Monkee</th>\n",
       "      <td>0.229424</td>\n",
       "      <td>0.760656</td>\n",
       "      <td>0.175611</td>\n",
       "    </tr>\n",
       "    <tr>\n",
       "      <th>Double Shot</th>\n",
       "      <td>0.168706</td>\n",
       "      <td>0.871083</td>\n",
       "      <td>0.157164</td>\n",
       "    </tr>\n",
       "  </tbody>\n",
       "</table>\n",
       "</div>"
      ],
      "text/plain": [
       "                                       similarity_score  sentiment     score\n",
       "product_name                                                                \n",
       "All That Is And All That Ever Will Be          0.265658   0.792720  0.210366\n",
       "Stickee Monkee                                 0.229424   0.760656  0.175611\n",
       "Double Shot                                    0.168706   0.871083  0.157164"
      ]
     },
     "execution_count": 8,
     "metadata": {},
     "output_type": "execute_result"
    }
   ],
   "source": [
    "# Multiplicative scores\n",
    "df2['score'] = df2['similarity_score'] * df2['sentiment']\n",
    "\n",
    "# new columns in original dataframe to use in other functions\n",
    "df['score'] = df2['score']\n",
    "df['sentiment'] = df2['sentiment']\n",
    "\n",
    "# get average of score per beer and sort by highest score\n",
    "df3 = df2.groupby('product_name')[['similarity_score', 'sentiment', 'score']].mean().sort_values(by=['score'], ascending=False)\n",
    "df3.head(3)"
   ]
  },
  {
   "attachments": {},
   "cell_type": "markdown",
   "metadata": {},
   "source": [
    "##### Print out top 3 highest scored reviews for top recommended product to make sure that the reviews are relevant to the product attributes"
   ]
  },
  {
   "cell_type": "code",
   "execution_count": 9,
   "metadata": {},
   "outputs": [
    {
     "name": "stdout",
     "output_type": "stream",
     "text": [
      "BEER: All That Is And All That Ever Will Be \n",
      "\n",
      "Review: Pours like syrup--smooth and sweet. Very dark brown with a mocha head. It is rich with strong milk chocolate flavor, and subtle coffee flavor underneath. Several good aspects to this stout, but perhaps a bit too sweet, making this lean toward dessert beer.\n",
      "Score: 0.35585220259995315\n",
      "\n",
      "Review: 16oz can poured into a snifter.  A: Black on the pour with two fingers of brown head. Retention is good, lacing manifests in broken rings.  S: Nose is heavy on the chocolate. Brownie batter and a generous helping of Hershey’s chocolate syrup. Fatty nibs. Bit of woody roast and earthy hop. Berry-like fruity note. Nutty coffee.  T: Follows the nose. Chocolate all over the attack. Cocoa nibs, brownie batter, chocolate syrup in a big way. Sugary lactose. That berry fruitiness comes through tasting like a raspberry tootsie pop. Pervasive background flavor of nutty coffee. Quick flash of earthy hops, and woody and roasty malt flavors poke through now and again. Perhaps some subtle cola. Roasty and Chocolatey finish.   M: Rich and thick in the mouth. Coating and almost syrupy. Tons of residual sugar. Carbonation is ample but gentle, and fluffs things up a little.  O: Might be an unpopular opinion, but this is just too sweet for me. Tree House has a penchant for taking all of their dark beers well onto the sweet side of things, and some fare better there than others. Here there is just not quite enough hop, coffee, or black malt bitterness to bring it into any semblance of balance. It does finish drier than it starts, but it isn’t nearly enough to save the drinkability. You gotta have a serious sweet tooth to enjoy beers like this, and unfortunately I find that I tend to favor balance and dryness as opposed to a candy-bomb like this. It tastes like chocolate syrup and sits like 16oz of chocolate syrup in the stomach. Looks like sweet sells though, so maybe I’m just an old grouch now.\n",
      "Score: 0.20300720091586255\n",
      "\n",
      "Review: Pours black, significant brown head. It definitely has that milk stout aroma - tangy/lactose and some alcohol. Taste is roasty with dark chocolate. Some umami/meatiness/soy sauce as well. Feel is somewhat creamy. Overall, one of my favorite milk stouts.\n",
      "Score: 0.17389335932308242\n",
      "\n"
     ]
    }
   ],
   "source": [
    "# print top 3 product review and score for a specific beer sort by highest score\n",
    "def top_3_reviews(beer):\n",
    "    df4 = df2[df2['product_name'] == beer].sort_values(by=['score'], ascending=False)\n",
    "    for i in range(3):\n",
    "        print('Review:', df4.iloc[i]['product_review'])\n",
    "        print('Score:', df4.iloc[i]['score'])\n",
    "        print()\n",
    "\n",
    "print('BEER:', df3.index[0], '\\n')\n",
    "top_3_reviews(df3.index[0])\n",
    "\n"
   ]
  },
  {
   "attachments": {},
   "cell_type": "markdown",
   "metadata": {},
   "source": [
    "### Task F. How would your recommendation change if you use word vectors (e.g., the spaCy package with medium sized pretrained word vectors) instead of the plain vanilla bag-of-words cosine similarity? \n",
    "\n",
    "##### One way to analyze the difference would be to consider the % of reviews that mention a preferred attribute. E.g., if you recommend a product, what % of its reviews mention an attribute specified by the customer? Do you see any difference across bag-of-words and word vector approaches? "
   ]
  },
  {
   "cell_type": "code",
   "execution_count": 10,
   "metadata": {},
   "outputs": [
    {
     "data": {
      "text/html": [
       "<div>\n",
       "<style scoped>\n",
       "    .dataframe tbody tr th:only-of-type {\n",
       "        vertical-align: middle;\n",
       "    }\n",
       "\n",
       "    .dataframe tbody tr th {\n",
       "        vertical-align: top;\n",
       "    }\n",
       "\n",
       "    .dataframe thead th {\n",
       "        text-align: right;\n",
       "    }\n",
       "</style>\n",
       "<table border=\"1\" class=\"dataframe\">\n",
       "  <thead>\n",
       "    <tr style=\"text-align: right;\">\n",
       "      <th></th>\n",
       "      <th>Beer</th>\n",
       "      <th>score</th>\n",
       "      <th>contains_dark</th>\n",
       "      <th>contains_sweet</th>\n",
       "      <th>contains_head</th>\n",
       "    </tr>\n",
       "  </thead>\n",
       "  <tbody>\n",
       "    <tr>\n",
       "      <th>11</th>\n",
       "      <td>All That Is And All That Ever Will Be</td>\n",
       "      <td>0.210366</td>\n",
       "      <td>1.000000</td>\n",
       "      <td>0.6</td>\n",
       "      <td>0.800000</td>\n",
       "    </tr>\n",
       "    <tr>\n",
       "      <th>211</th>\n",
       "      <td>Stickee Monkee</td>\n",
       "      <td>0.175611</td>\n",
       "      <td>0.333333</td>\n",
       "      <td>1.0</td>\n",
       "      <td>0.666667</td>\n",
       "    </tr>\n",
       "    <tr>\n",
       "      <th>85</th>\n",
       "      <td>Double Shot</td>\n",
       "      <td>0.157164</td>\n",
       "      <td>0.666667</td>\n",
       "      <td>0.5</td>\n",
       "      <td>0.666667</td>\n",
       "    </tr>\n",
       "  </tbody>\n",
       "</table>\n",
       "</div>"
      ],
      "text/plain": [
       "                                      Beer     score  contains_dark  \\\n",
       "11   All That Is And All That Ever Will Be  0.210366       1.000000   \n",
       "211                         Stickee Monkee  0.175611       0.333333   \n",
       "85                             Double Shot  0.157164       0.666667   \n",
       "\n",
       "     contains_sweet  contains_head  \n",
       "11              0.6       0.800000  \n",
       "211             1.0       0.666667  \n",
       "85              0.5       0.666667  "
      ]
     },
     "execution_count": 10,
     "metadata": {},
     "output_type": "execute_result"
    }
   ],
   "source": [
    "attributes = attributes.split()\n",
    "\n",
    "df['contains_{}'.format(attributes[0])] = df['clean_review'].str.contains(attributes[0])\n",
    "df['contains_{}'.format(attributes[1])] = df['clean_review'].str.contains(attributes[1])\n",
    "df['contains_{}'.format(attributes[2])] = df['clean_review'].str.contains(attributes[2])\n",
    "\n",
    "# ratings column used to get the count of reviews for each unique beer\n",
    "subset = df.groupby('Beer').agg({'score': 'mean', 'contains_{}'.format(attributes[0]): 'sum', 'contains_{}'.format(attributes[1]): 'sum', 'contains_{}'.format(attributes[2]): 'sum','Rating':'count'}).reset_index()\n",
    "subset['contains_{}'.format(attributes[0])] = subset['contains_{}'.format(attributes[0])] / subset['Rating']\n",
    "subset['contains_{}'.format(attributes[1])] = subset['contains_{}'.format(attributes[1])] / subset['Rating']\n",
    "subset['contains_{}'.format(attributes[2])] = subset['contains_{}'.format(attributes[2])] / subset['Rating']\n",
    "subset = subset.drop(columns=['Rating'])\n",
    "subset = subset.sort_values(by=['score'], ascending=False)[:3]\n",
    "subset"
   ]
  },
  {
   "cell_type": "code",
   "execution_count": null,
   "metadata": {},
   "outputs": [],
   "source": [
    "nlp = spacy.load(\"en_core_web_md\")\n",
    "attributes_word_vec = nlp(attributes[0] + ' ' + attributes[1] + ' ' + attributes[2]).vector\n",
    "\n",
    "# add spacy_similarity_score to df dataframe\n",
    "# iterate over every rw in df dataframe\n",
    "for index, row in df.iterrows():\n",
    "    try :\n",
    "        # get the word vector for the review\n",
    "        review_word_vec = nlp(row['clean_review']).vector\n",
    "        # calculate the similarity between the review and the attributes\n",
    "        similarity = review_word_vec.similarity(attributes_word_vec)\n",
    "        # add the similarity score to the df dataframe\n",
    "        df.loc[index, 'spacy_similarity_score'] = similarity\n",
    "    except:\n",
    "        # if there is an error, add a nan to the df dataframe\n",
    "        df.loc[index, 'spacy_similarity_score'] = np.nan\n",
    "#df['spacy_similarity_score'] = df['clean_review'].apply(lambda x: nlp(x).similarity(attributes_word_vec))\n"
   ]
  },
  {
   "cell_type": "code",
   "execution_count": null,
   "metadata": {},
   "outputs": [],
   "source": [
    "df.head()"
   ]
  },
  {
   "cell_type": "code",
   "execution_count": null,
   "metadata": {},
   "outputs": [],
   "source": [
    "# print review, spacy_similarity_score, and score for df dataframe\n",
    "\n",
    "def top_3_reviews_spacy(beer):\n",
    "    df4 = df[df['Beer'] == beer].sort_values(by=['spacy_similarity_score'], ascending=False)\n",
    "    for i in range(5):\n",
    "        print('Review:', df4.iloc[i]['Review'])\n",
    "        print('Spacy Similarity Score:', df4.iloc[i]['spacy_similarity_score'])\n",
    "        print('Score:', df4.iloc[i]['score'])\n",
    "        print()\n",
    "\n",
    "top_3_reviews_spacy('Kentucky Brunch Brand Stout')"
   ]
  },
  {
   "cell_type": "code",
   "execution_count": null,
   "metadata": {},
   "outputs": [],
   "source": [
    "# print min and max of spacy_similarity_score for df dataframe\n",
    "print('Min:', df['spacy_similarity_score'].min())\n",
    "print('Max:', df['spacy_similarity_score'].max())\n",
    "\n",
    "# print row with min spacy_similarity_score\n",
    "df[df['spacy_similarity_score'] == df['spacy_similarity_score'].min()]\n",
    "\n",
    "# print row with max spacy_similarity_score\n",
    "df[df['spacy_similarity_score'] == df['spacy_similarity_score'].max()]['Review'][280]\n"
   ]
  },
  {
   "cell_type": "code",
   "execution_count": null,
   "metadata": {},
   "outputs": [],
   "source": [
    "df['spacy_score'] = df['spacy_similarity_score'] * df['sentiment']\n",
    "for beer in (df['Beer']).unique():\n",
    "    df['contains_{}'.format(attributes[0])] = df['clean_review'].str.contains(attributes[0])\n",
    "    df['contains_{}'.format(attributes[1])] = df['clean_review'].str.contains(attributes[1])\n",
    "    df['contains_{}'.format(attributes[2])] = df['clean_review'].str.contains(attributes[2])\n",
    "\n",
    "subset2 = df.groupby('Beer').agg({'spacy_score': 'mean', 'contains_{}'.format(attributes[0]): 'sum', 'contains_{}'.format(attributes[1]): 'sum', 'contains_{}'.format(attributes[2]): 'sum','Rating':'count'}).reset_index()\n",
    "subset2['contains_{}'.format(attributes[0])] = subset2['contains_{}'.format(attributes[0])] / subset2['Rating']\n",
    "subset2['contains_{}'.format(attributes[1])] = subset2['contains_{}'.format(attributes[1])] / subset2['Rating']\n",
    "subset2['contains_{}'.format(attributes[2])] = subset2['contains_{}'.format(attributes[2])] / subset2['Rating']\n",
    "subset2 = subset2.drop(columns=['Rating'])\n",
    "subset2 = subset2.sort_values(by=['spacy_score'], ascending=False)[:3]\n",
    "subset2"
   ]
  },
  {
   "attachments": {},
   "cell_type": "markdown",
   "metadata": {},
   "source": [
    "### Task G. How would your recommendations differ if you ignored the similarity and feature sentiment scores and simply chose the 3 highest rated products from your entire dataset? Would these products meet the requirements of the user looking for recommendations? Why or why not? \n",
    "\n",
    "##### Justify your answer with analysis. Use the similarity and sentiment scores as well as overall ratings to answer this question. "
   ]
  },
  {
   "cell_type": "code",
   "execution_count": null,
   "metadata": {},
   "outputs": [],
   "source": [
    "top_3_beers = df.groupby('Beer').agg({'Rating': 'mean'}).reset_index().sort_values(by='Rating',ascending=False)[:3]\n",
    "top_3_beers_df = top_3_beers.merge(df, on='Beer', how='left')\n",
    "subset3 = top_3_beers_df.groupby('Beer').agg({'score': 'mean', 'contains_{}'.format(attributes[0]): 'sum', 'contains_{}'.format(attributes[1]): 'sum', 'contains_{}'.format(attributes[2]): 'sum','Rating_x':'count'}).reset_index()\n",
    "subset3['contains_{}'.format(attributes[0])] = subset3['contains_{}'.format(attributes[0])] / subset3['Rating_x']\n",
    "subset3['contains_{}'.format(attributes[1])] = subset3['contains_{}'.format(attributes[1])] / subset3['Rating_x']\n",
    "subset3['contains_{}'.format(attributes[2])] = subset3['contains_{}'.format(attributes[2])] / subset3['Rating_x']\n",
    "subset3 = subset3.drop(columns=['Rating_x'])\n",
    "subset3 = subset3.sort_values(by=['score'], ascending=False)[:3]\n",
    "subset3.reset_index(drop=True)"
   ]
  },
  {
   "attachments": {},
   "cell_type": "markdown",
   "metadata": {},
   "source": [
    "### Task H. Using the top four attributes of beer (from word frequency analysis), calculate the lifts between these attributes and any 10 beers in your data. Choose one beer, and find the most similar beer (among the remaining 9) using the lift values. Explain your method. "
   ]
  },
  {
   "cell_type": "code",
   "execution_count": null,
   "metadata": {},
   "outputs": [],
   "source": [
    "word_list = {}\n",
    "i = 0\n",
    "for review in df['clean_review']:\n",
    "    for word in review.split():\n",
    "        if word not in word_list:\n",
    "            word_list[word] = i\n",
    "            i += 1\n",
    "\n",
    "for word in attributes:\n",
    "    if word not in word_list:\n",
    "        word_list[word] = i\n",
    "        i += 1\n",
    "\n",
    "top_4_attributes = ['dark','sweet','carbonation','head']\n",
    "for idx in range(0,4):\n",
    "    for beer in (df['Beer']).unique():\n",
    "        beer_df = df[df['Beer'] == beer]\n",
    "        N = len(df)\n",
    "        AB = sum(beer_df['clean_review'].str.contains(top_4_attributes[idx]))\n",
    "        A = word_list[top_4_attributes[idx]]\n",
    "        B = len(beer_df)\n",
    "        lift = (N*AB)/(A*B)\n",
    "        df.loc[df['Beer'] == beer, 'lift_{}'.format(top_4_attributes[idx])] = lift\n",
    "\n",
    "beer_lifts = df.groupby('Beer').agg({'lift_{}'.format(top_4_attributes[0]): 'mean', 'lift_{}'.format(top_4_attributes[1]): 'mean', 'lift_{}'.format(top_4_attributes[2]): 'mean', 'lift_{}'.format(top_4_attributes[3]): 'mean'}).reset_index()[:10]\n",
    "\n",
    "beer_lifts"
   ]
  },
  {
   "cell_type": "code",
   "execution_count": null,
   "metadata": {},
   "outputs": [],
   "source": [
    "def cosine_similarity(vec1, vec2):\n",
    "    return np.dot(vec1, vec2) / (np.linalg.norm(vec1) * np.linalg.norm(vec2))\n",
    "desired_beer = '4th Anniversary'\n",
    "#get the attributes columns for desired beer\n",
    "desired_beer_attributes = beer_lifts[['lift_{}'.format(top_4_attributes[0]),'lift_{}'.format(top_4_attributes[1]),'lift_{}'.format(top_4_attributes[2]),'lift_{}'.format(top_4_attributes[3])]][beer_lifts['Beer'] == desired_beer]\n",
    "#for each row in beer_lifts\n",
    "for idx in range(0, len(beer_lifts)):\n",
    "    current_beer_attributes = beer_lifts[['lift_{}'.format(top_4_attributes[0]),'lift_{}'.format(top_4_attributes[1]),'lift_{}'.format(top_4_attributes[2]),'lift_{}'.format(top_4_attributes[3])]].iloc[idx]\n",
    "    beer_lifts.loc[idx, 'cosine_similarity'] = cosine_similarity(desired_beer_attributes, current_beer_attributes)\n",
    "beer_lifts.sort_values(by='cosine_similarity', ascending=False)\n",
    "beer_lifts.head(2)"
   ]
  }
 ],
 "metadata": {
  "kernelspec": {
   "display_name": "Python 3 (ipykernel)",
   "language": "python",
   "name": "python3"
  },
  "language_info": {
   "codemirror_mode": {
    "name": "ipython",
    "version": 3
   },
   "file_extension": ".py",
   "mimetype": "text/x-python",
   "name": "python",
   "nbconvert_exporter": "python",
   "pygments_lexer": "ipython3",
   "version": "3.8.3"
  },
  "vscode": {
   "interpreter": {
    "hash": "8fda165f50e76d432f6ed799118bc9dab23fa79194393d6371ca86a52c69e7ca"
   }
  }
 },
 "nbformat": 4,
 "nbformat_minor": 2
}
